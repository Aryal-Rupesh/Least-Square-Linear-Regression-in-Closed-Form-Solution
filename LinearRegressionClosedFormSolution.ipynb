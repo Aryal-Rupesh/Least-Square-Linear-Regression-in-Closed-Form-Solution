{
 "cells": [
  {
   "cell_type": "code",
   "execution_count": 2,
   "id": "462750ba",
   "metadata": {},
   "outputs": [
    {
     "name": "stdout",
     "output_type": "stream",
     "text": [
      "Defaulting to user installation because normal site-packages is not writeable\n",
      "Requirement already satisfied: sympy in c:\\programdata\\anaconda3\\lib\\site-packages (1.10.1)\n",
      "Requirement already satisfied: mpmath>=0.19 in c:\\programdata\\anaconda3\\lib\\site-packages (from sympy) (1.2.1)\n",
      "Note: you may need to restart the kernel to use updated packages.\n"
     ]
    }
   ],
   "source": [
    "#pip install sympy"
   ]
  },
  {
   "cell_type": "code",
   "execution_count": 1,
   "id": "819a1c63",
   "metadata": {},
   "outputs": [],
   "source": [
    "from sympy import Matrix"
   ]
  },
  {
   "cell_type": "code",
   "execution_count": 2,
   "id": "01a86d84",
   "metadata": {},
   "outputs": [
    {
     "name": "stdout",
     "output_type": "stream",
     "text": [
      "Matrix X = Matrix([[10, 1], [22, 1], [22, 1], [13, 1], [16, 1], [21, 1]])\n",
      "Matrix Y = Matrix([[25], [18], [24], [25], [12], [17]])\n"
     ]
    }
   ],
   "source": [
    "# Representing input values as matrix X\n",
    "X = Matrix([[10],\n",
    "           [22],\n",
    "           [22],\n",
    "           [13],\n",
    "           [16],\n",
    "           [21]])\n",
    "\n",
    "# matrix to demonstrate not invertible case\n",
    "'''X = Matrix([\n",
    "    [1, 2],\n",
    "    [3, 4],\n",
    "    [5, 6]\n",
    "])'''\n",
    "\n",
    "# Merge column of 1 in matrix X to represent X0\n",
    "X1 = Matrix([1] * X.shape[0])\n",
    "X = X.row_join(X1)\n",
    "\n",
    "# Representing observed values as matrix Y\n",
    "Y = Matrix([[25],\n",
    "           [18],\n",
    "           [24],\n",
    "           [25],\n",
    "           [12],\n",
    "           [17]])\n",
    "\n",
    "# matrix to demonstrate not invertible case\n",
    "'''Y = Matrix([[10],\n",
    "           [20],\n",
    "           [30]])'''\n",
    "\n",
    "print(f\"Matrix X = {X}\")\n",
    "print(f\"Matrix Y = {Y}\")"
   ]
  },
  {
   "cell_type": "code",
   "execution_count": 3,
   "id": "c5aea46c",
   "metadata": {},
   "outputs": [
    {
     "name": "stdout",
     "output_type": "stream",
     "text": [
      "Matrix X transpose = Matrix([[10, 22, 22, 13, 16, 21], [1, 1, 1, 1, 1, 1]])\n"
     ]
    }
   ],
   "source": [
    "# Finding transpose a matrix X\n",
    "Xt = X.T\n",
    "print(f\"Matrix X transpose = {Xt}\")"
   ]
  },
  {
   "cell_type": "code",
   "execution_count": 4,
   "id": "d8ff1e79",
   "metadata": {},
   "outputs": [
    {
     "name": "stdout",
     "output_type": "stream",
     "text": [
      "Matrix X * Xtanspose = Matrix([[1934, 104], [104, 6]])\n"
     ]
    }
   ],
   "source": [
    "# Multiplying X transpose with X\n",
    "XtX = Xt * X\n",
    "print(f\"Matrix X * Xtanspose = {XtX}\")"
   ]
  },
  {
   "cell_type": "code",
   "execution_count": 5,
   "id": "1a2fe881",
   "metadata": {},
   "outputs": [
    {
     "name": "stdout",
     "output_type": "stream",
     "text": [
      "Inverse of Matrix X * Xtranspose = Matrix([[3/394, -26/197], [-26/197, 967/394]])\n"
     ]
    }
   ],
   "source": [
    "# Finding inverse of Xtranspose * X if it is invertible\n",
    "try:\n",
    "    determinant = XtX.det()\n",
    "    if determinant == 0:\n",
    "        raise ValueError(\"Matrix is not invertible!!!\")\n",
    "except ValueError as e:\n",
    "    print(e)\n",
    "else:\n",
    "    XtXinv = XtX.inv()\n",
    "    print(f\"Inverse of Matrix X * Xtranspose = {XtXinv}\")"
   ]
  },
  {
   "cell_type": "code",
   "execution_count": 6,
   "id": "7c070a30",
   "metadata": {},
   "outputs": [
    {
     "name": "stdout",
     "output_type": "stream",
     "text": [
      "Theta = Matrix([[-74/197], [10511/394]])\n"
     ]
    }
   ],
   "source": [
    "# Finding the coefficents of regression as a matrix theta\n",
    "theta = XtXinv * Xt * Y\n",
    "print(f\"Theta = {theta}\")"
   ]
  },
  {
   "cell_type": "code",
   "execution_count": 24,
   "id": "5375d246",
   "metadata": {},
   "outputs": [
    {
     "name": "stdout",
     "output_type": "stream",
     "text": [
      "Hello, Enter the input value.16\n"
     ]
    }
   ],
   "source": [
    "# Taking input value from user\n",
    "x = int(input(\"Hello, Enter the input value.\"))"
   ]
  },
  {
   "cell_type": "code",
   "execution_count": 26,
   "id": "a208fd77",
   "metadata": {},
   "outputs": [
    {
     "name": "stdout",
     "output_type": "stream",
     "text": [
      "The predicted value for input 16 is 20.66751269035533\n"
     ]
    }
   ],
   "source": [
    "# Calculating predicted value\n",
    "y = theta[0, 0] * x + theta[1, 0]\n",
    "print(f\"The predicted value for input {x} is {float(y)}\")"
   ]
  }
 ],
 "metadata": {
  "kernelspec": {
   "display_name": "Python 3 (ipykernel)",
   "language": "python",
   "name": "python3"
  },
  "language_info": {
   "codemirror_mode": {
    "name": "ipython",
    "version": 3
   },
   "file_extension": ".py",
   "mimetype": "text/x-python",
   "name": "python",
   "nbconvert_exporter": "python",
   "pygments_lexer": "ipython3",
   "version": "3.9.12"
  }
 },
 "nbformat": 4,
 "nbformat_minor": 5
}
